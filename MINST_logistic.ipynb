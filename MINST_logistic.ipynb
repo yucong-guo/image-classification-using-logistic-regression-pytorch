{
  "nbformat": 4,
  "nbformat_minor": 0,
  "metadata": {
    "colab": {
      "name": "MINST_logistic.ipynb",
      "provenance": [],
      "toc_visible": true
    },
    "kernelspec": {
      "name": "python3",
      "display_name": "Python 3"
    },
    "language_info": {
      "name": "python"
    }
  },
  "cells": [
    {
      "cell_type": "code",
      "execution_count": 1,
      "metadata": {
        "id": "G4MfOtQUsgTG"
      },
      "outputs": [],
      "source": [
        "import torch\n",
        "import torchvision\n",
        "from torchvision.datasets import MNIST"
      ]
    },
    {
      "cell_type": "code",
      "source": [
        "dataset=MNIST(root='data/',download=True)"
      ],
      "metadata": {
        "id": "_YHAvpIiswPk"
      },
      "execution_count": 34,
      "outputs": []
    },
    {
      "cell_type": "code",
      "source": [
        "len(dataset)"
      ],
      "metadata": {
        "colab": {
          "base_uri": "https://localhost:8080/"
        },
        "id": "_YAEBUFntCal",
        "outputId": "85bbd990-1bf1-495e-9c40-3942c1fccf05"
      },
      "execution_count": 3,
      "outputs": [
        {
          "output_type": "execute_result",
          "data": {
            "text/plain": [
              "60000"
            ]
          },
          "metadata": {},
          "execution_count": 3
        }
      ]
    },
    {
      "cell_type": "code",
      "source": [
        "test_ds = MNIST(root='data/', train=False, transform=transforms.ToTensor())\n",
        "len(test_dataset)"
      ],
      "metadata": {
        "colab": {
          "base_uri": "https://localhost:8080/"
        },
        "id": "nkSmMPestUJ5",
        "outputId": "938b0f7d-af85-4a33-97a7-0af8a12122be"
      },
      "execution_count": 31,
      "outputs": [
        {
          "output_type": "execute_result",
          "data": {
            "text/plain": [
              "10000"
            ]
          },
          "metadata": {},
          "execution_count": 31
        }
      ]
    },
    {
      "cell_type": "code",
      "source": [
        "dataset[0]      #data for row 1\n",
        "dataset[0][0]     #image for above data\n",
        "dataset[0][1]       #label"
      ],
      "metadata": {
        "colab": {
          "base_uri": "https://localhost:8080/"
        },
        "id": "22UErYPNttYn",
        "outputId": "e210ecea-229b-403c-e64f-f4e644a155ae"
      },
      "execution_count": 32,
      "outputs": [
        {
          "output_type": "execute_result",
          "data": {
            "text/plain": [
              "5"
            ]
          },
          "metadata": {},
          "execution_count": 32
        }
      ]
    },
    {
      "cell_type": "code",
      "source": [
        "import matplotlib.pyplot as plt\n",
        "image, label = dataset[0]\n",
        "plt.imshow(image, cmap='gray')\n",
        "print('Label:', label)"
      ],
      "metadata": {
        "colab": {
          "base_uri": "https://localhost:8080/",
          "height": 282
        },
        "id": "OBYgJWKxtvTA",
        "outputId": "cbcb92e1-3b5f-46c2-bcfa-9cba935c8df5"
      },
      "execution_count": 35,
      "outputs": [
        {
          "output_type": "stream",
          "name": "stdout",
          "text": [
            "Label: 5\n"
          ]
        },
        {
          "output_type": "display_data",
          "data": {
            "image/png": "[encoded data removed]",
            "text/plain": [
              "<Figure size 432x288 with 1 Axes>"
            ]
          },
          "metadata": {
            "needs_background": "light"
          }
        }
      ]
    },
    {
      "cell_type": "markdown",
      "source": [
        "### load MINST into tensor"
      ],
      "metadata": {
        "id": "o2W3zJWmv8L-"
      }
    },
    {
      "cell_type": "code",
      "source": [
        "import torchvision.transforms as transforms\n",
        "#transform "
      ],
      "metadata": {
        "id": "N8aoILOTueAv"
      },
      "execution_count": 7,
      "outputs": []
    },
    {
      "cell_type": "code",
      "source": [
        "# MNIST dataset (images and labels)\n",
        "dataset = MNIST(root='data/', \n",
        "                train=True,\n",
        "                transform=transforms.ToTensor())\n",
        "image_tensor=dataset[0][0]          #load the first data from training dataset\n",
        "label=dataset[0][1]\n",
        "print(image_tensor.shape,label)\n",
        "image_tensor[0,10:15,10:15]\n"
      ],
      "metadata": {
        "colab": {
          "base_uri": "https://localhost:8080/"
        },
        "id": "HAQDQGB3uWtO",
        "outputId": "25d43e59-0ae7-4ca5-ed94-20a02b9ad729"
      },
      "execution_count": 8,
      "outputs": [
        {
          "output_type": "stream",
          "name": "stdout",
          "text": [
            "torch.Size([1, 28, 28]) 5\n"
          ]
        },
        {
          "output_type": "execute_result",
          "data": {
            "text/plain": [
              "tensor([[0.0039, 0.6039, 0.9922, 0.3529, 0.0000],\n",
              "        [0.0000, 0.5451, 0.9922, 0.7451, 0.0078],\n",
              "        [0.0000, 0.0431, 0.7451, 0.9922, 0.2745],\n",
              "        [0.0000, 0.0000, 0.1373, 0.9451, 0.8824],\n",
              "        [0.0000, 0.0000, 0.0000, 0.3176, 0.9412]])"
            ]
          },
          "metadata": {},
          "execution_count": 8
        }
      ]
    },
    {
      "cell_type": "markdown",
      "source": [
        "The image is now converted to a 1x28x28 tensor. The first dimension tracks color channels. The second and third dimensions represent pixels along the height and width of the image, respectively. Since images in the MNIST dataset are grayscale, there's just one channel. Other datasets have images with color, in which case there are three channels: red, green, and blue (RGB).\n",
        "\n",
        "The values range from 0 to 1, with 0 representing black, 1 white, and the values in between different shades of grey. We can also plot the tensor as an image using plt.imshow"
      ],
      "metadata": {
        "id": "nRDzSZT0wkUq"
      }
    },
    {
      "cell_type": "markdown",
      "source": [
        "# split dataset into traning, validation, testing"
      ],
      "metadata": {
        "id": "r07V7Y0yx_gH"
      }
    },
    {
      "cell_type": "code",
      "source": [
        "from torch.utils.data import random_split\n",
        "\n",
        "train_ds, val_ds = random_split(dataset, [50000, 10000])\n",
        "len(train_ds), len(val_ds)"
      ],
      "metadata": {
        "colab": {
          "base_uri": "https://localhost:8080/"
        },
        "id": "OQ26Jmaswucv",
        "outputId": "1fa80de3-a452-45b7-a63f-ab92856b2046"
      },
      "execution_count": 9,
      "outputs": [
        {
          "output_type": "execute_result",
          "data": {
            "text/plain": [
              "(50000, 10000)"
            ]
          },
          "metadata": {},
          "execution_count": 9
        }
      ]
    },
    {
      "cell_type": "code",
      "source": [
        "from torch.utils.data import DataLoader\n",
        "batch_size = 128\n",
        "\n",
        "train_loader = DataLoader(train_ds, batch_size, shuffle=True)\n",
        "val_loader = DataLoader(val_ds, batch_size)"
      ],
      "metadata": {
        "id": "tMGbUOyjycCX"
      },
      "execution_count": 10,
      "outputs": []
    },
    {
      "cell_type": "markdown",
      "source": [
        "# Train the model"
      ],
      "metadata": {
        "id": "bCvdJGAe1gfb"
      }
    },
    {
      "cell_type": "markdown",
      "source": [
        "### model"
      ],
      "metadata": {
        "id": "0R4F1p6W726O"
      }
    },
    {
      "cell_type": "code",
      "source": [
        "import torch.nn as nn\n",
        "\n",
        "input_size=28*28\n",
        "num_classes=10\n",
        "\n",
        "model=nn.Linear(input_size,num_classes)\n",
        "#model.parameters\n",
        "print(model.weight.shape)\n",
        "print(model.bias.shape)"
      ],
      "metadata": {
        "colab": {
          "base_uri": "https://localhost:8080/"
        },
        "id": "4g8HlINj1f9I",
        "outputId": "e0547dd9-f8a5-4cae-d344-7f827936d06a"
      },
      "execution_count": 11,
      "outputs": [
        {
          "output_type": "stream",
          "name": "stdout",
          "text": [
            "torch.Size([10, 784])\n",
            "torch.Size([10])\n"
          ]
        }
      ]
    },
    {
      "cell_type": "code",
      "source": [
        "for images,labels in train_loader:\n",
        "  print(images.shape)\n",
        "  break"
      ],
      "metadata": {
        "colab": {
          "base_uri": "https://localhost:8080/"
        },
        "id": "qS_w2Dwz2khu",
        "outputId": "83198c78-37ee-46e7-e23f-9cd30666734d"
      },
      "execution_count": 12,
      "outputs": [
        {
          "output_type": "stream",
          "name": "stdout",
          "text": [
            "torch.Size([128, 1, 28, 28])\n"
          ]
        }
      ]
    },
    {
      "cell_type": "markdown",
      "source": [
        "data shape and training weight size does not match, need to reshape the data"
      ],
      "metadata": {
        "id": "sdIih9DA5z-Y"
      }
    },
    {
      "cell_type": "code",
      "source": [
        "class MnistModel(nn.Module):\n",
        "    def __init__(self):\n",
        "        super().__init__()\n",
        "        print(\"1\")\n",
        "        self.linear = nn.Linear(input_size, num_classes)\n",
        "        \n",
        "    def forward(self, xb):\n",
        "        xb = xb.reshape(128, 784)\n",
        "        print(\"2\")\n",
        "        out = self.linear(xb)\n",
        "        return out\n",
        "model = MnistModel()\n",
        "model(images)\n"
      ],
      "metadata": {
        "colab": {
          "base_uri": "https://localhost:8080/"
        },
        "id": "gqA4wic756ly",
        "outputId": "6f14de95-330b-4610-aeac-983da8adfa5a"
      },
      "execution_count": 13,
      "outputs": [
        {
          "output_type": "stream",
          "name": "stdout",
          "text": [
            "1\n",
            "2\n"
          ]
        },
        {
          "output_type": "execute_result",
          "data": {
            "text/plain": [
              "tensor([[ 0.2884,  0.1469,  0.0842,  ...,  0.0937,  0.1114,  0.0135],\n",
              "        [-0.0561, -0.0363, -0.1627,  ...,  0.1726,  0.1574, -0.2425],\n",
              "        [ 0.1289, -0.1666,  0.0551,  ...,  0.1277, -0.2812, -0.3743],\n",
              "        ...,\n",
              "        [-0.1216,  0.1351, -0.2288,  ...,  0.1817, -0.0359, -0.2705],\n",
              "        [-0.4313, -0.0286, -0.0126,  ...,  0.1020, -0.0432, -0.0822],\n",
              "        [-0.1265,  0.0991, -0.1193,  ..., -0.0591, -0.0334, -0.1558]],\n",
              "       grad_fn=<AddmmBackward0>)"
            ]
          },
          "metadata": {},
          "execution_count": 13
        }
      ]
    },
    {
      "cell_type": "code",
      "source": [
        "for images, labels in train_loader:\n",
        "  \n",
        "    print(images.shape)                           #only use the first batch\n",
        "    outputs = model(images)\n",
        "    break\n",
        "\n",
        "print('outputs.shape : ', outputs.shape)\n",
        "print('Sample outputs :\\n', outputs[:2].data)"
      ],
      "metadata": {
        "colab": {
          "base_uri": "https://localhost:8080/"
        },
        "id": "YEdj89gm66yc",
        "outputId": "dc76b616-fd81-4abe-e2df-7ead1435033a"
      },
      "execution_count": 14,
      "outputs": [
        {
          "output_type": "stream",
          "name": "stdout",
          "text": [
            "torch.Size([128, 1, 28, 28])\n",
            "2\n",
            "outputs.shape :  torch.Size([128, 10])\n",
            "Sample outputs :\n",
            " tensor([[-0.0197, -0.1790,  0.0595,  0.0324, -0.3895, -0.1457, -0.3407,  0.0346,\n",
            "          0.0972, -0.2679],\n",
            "        [ 0.0608, -0.2369,  0.0646,  0.0188, -0.2829,  0.0407, -0.4458,  0.3015,\n",
            "         -0.0049, -0.1980]])\n"
          ]
        }
      ]
    },
    {
      "cell_type": "markdown",
      "source": [
        "## loss function"
      ],
      "metadata": {
        "id": "Fm59PWTi8Kwx"
      }
    },
    {
      "cell_type": "code",
      "source": [
        "import torch.nn.functional as F\n",
        "probs = F.softmax(outputs, dim=1)         #gives the probability for all the data in dataset\n",
        "probs[1]"
      ],
      "metadata": {
        "colab": {
          "base_uri": "https://localhost:8080/"
        },
        "id": "vhM40Xgi7ySN",
        "outputId": "72e5a8a8-9587-4ac8-e670-d47229650121"
      },
      "execution_count": 15,
      "outputs": [
        {
          "output_type": "execute_result",
          "data": {
            "text/plain": [
              "tensor([0.1114, 0.0827, 0.1118, 0.1068, 0.0790, 0.1092, 0.0671, 0.1417, 0.1043,\n",
              "        0.0860], grad_fn=<SelectBackward0>)"
            ]
          },
          "metadata": {},
          "execution_count": 15
        }
      ]
    },
    {
      "cell_type": "code",
      "source": [
        "max,preds=torch.max(probs,dim=1)\n",
        "#print(max)\n",
        "print(\"prediction labels\",preds)              #prediction\n",
        "print(\"true labels\",labels)               "
      ],
      "metadata": {
        "colab": {
          "base_uri": "https://localhost:8080/"
        },
        "id": "7bFYpz_l8J_j",
        "outputId": "bc8730f7-5f25-4a18-e560-7b84c6289b9f"
      },
      "execution_count": 16,
      "outputs": [
        {
          "output_type": "stream",
          "name": "stdout",
          "text": [
            "prediction labels tensor([8, 7, 1, 7, 7, 4, 8, 3, 3, 1, 3, 1, 8, 0, 4, 8, 5, 8, 8, 5, 8, 8, 0, 8,\n",
            "        7, 1, 8, 1, 3, 8, 1, 1, 0, 5, 8, 5, 0, 5, 8, 8, 9, 8, 0, 7, 8, 5, 0, 8,\n",
            "        1, 1, 3, 5, 5, 8, 0, 1, 7, 1, 8, 8, 8, 8, 3, 1, 9, 5, 3, 8, 4, 7, 8, 1,\n",
            "        8, 5, 8, 0, 0, 5, 3, 1, 2, 8, 1, 8, 7, 3, 9, 9, 1, 8, 5, 5, 3, 8, 7, 8,\n",
            "        0, 5, 1, 0, 3, 7, 8, 5, 8, 8, 1, 1, 0, 8, 7, 5, 0, 5, 8, 3, 0, 0, 5, 1,\n",
            "        8, 7, 7, 0, 8, 1, 1, 7])\n",
            "true labels tensor([0, 6, 2, 0, 5, 2, 2, 5, 8, 8, 6, 7, 1, 4, 0, 7, 8, 3, 0, 4, 1, 8, 7, 1,\n",
            "        0, 3, 0, 4, 6, 5, 9, 0, 6, 3, 6, 2, 0, 4, 4, 2, 3, 4, 7, 0, 2, 9, 9, 1,\n",
            "        7, 5, 3, 7, 1, 6, 1, 9, 6, 0, 8, 3, 8, 2, 3, 0, 1, 5, 5, 0, 3, 6, 8, 6,\n",
            "        8, 6, 1, 8, 6, 9, 3, 5, 6, 8, 9, 3, 5, 2, 1, 1, 0, 3, 6, 6, 6, 9, 3, 5,\n",
            "        4, 1, 1, 4, 3, 8, 2, 6, 7, 3, 8, 4, 9, 2, 6, 9, 7, 0, 1, 3, 9, 7, 1, 8,\n",
            "        8, 0, 5, 9, 6, 6, 7, 0])\n"
          ]
        }
      ]
    },
    {
      "cell_type": "code",
      "source": [
        "torch.sum(preds == labels)"
      ],
      "metadata": {
        "colab": {
          "base_uri": "https://localhost:8080/"
        },
        "id": "k4iU27KHl3ss",
        "outputId": "6c0c1143-6fdc-448e-ff5d-c31264670af0"
      },
      "execution_count": 17,
      "outputs": [
        {
          "output_type": "execute_result",
          "data": {
            "text/plain": [
              "tensor(15)"
            ]
          },
          "metadata": {},
          "execution_count": 17
        }
      ]
    },
    {
      "cell_type": "code",
      "source": [
        "def accuracy(outputs, labels):\n",
        "    _, preds = torch.max(outputs, dim=1)\n",
        "    return torch.tensor(torch.sum(preds == labels).item() / len(preds))\n",
        "accuracy(outputs, labels)"
      ],
      "metadata": {
        "colab": {
          "base_uri": "https://localhost:8080/"
        },
        "id": "L3zFClpMndW-",
        "outputId": "b34414a4-7669-4017-cec0-460e114f3fae"
      },
      "execution_count": 18,
      "outputs": [
        {
          "output_type": "execute_result",
          "data": {
            "text/plain": [
              "tensor(0.1172)"
            ]
          },
          "metadata": {},
          "execution_count": 18
        }
      ]
    },
    {
      "cell_type": "markdown",
      "source": [
        "lost function"
      ],
      "metadata": {
        "id": "NWC3_3IzoWZ4"
      }
    },
    {
      "cell_type": "code",
      "source": [
        "loss_fn = F.cross_entropy\n",
        "loss = loss_fn(outputs, labels) #(input, target)\n",
        "print(loss)\n",
        "#print(outputs.shape)\n",
        "#labels"
      ],
      "metadata": {
        "colab": {
          "base_uri": "https://localhost:8080/"
        },
        "id": "v4Z4MyyXoJmh",
        "outputId": "f2051be8-2a0c-461f-fb45-c6f1e412ffb8"
      },
      "execution_count": 19,
      "outputs": [
        {
          "output_type": "stream",
          "name": "stdout",
          "text": [
            "tensor(2.3040, grad_fn=<NllLossBackward0>)\n"
          ]
        }
      ]
    },
    {
      "cell_type": "markdown",
      "source": [
        "## fit the model"
      ],
      "metadata": {
        "id": "1iurGXousTUN"
      }
    },
    {
      "cell_type": "code",
      "source": [
        "def accuracy(outputs, labels):\n",
        "    _, preds = torch.max(outputs, dim=1)\n",
        "    return torch.tensor(torch.sum(preds == labels).item() / len(preds))\n",
        "\n",
        "class MnistModel(nn.Module):\n",
        "    def __init__(self):\n",
        "        super().__init__()\n",
        "        self.linear = nn.Linear(input_size, num_classes)\n",
        "        \n",
        "    def forward(self, xb):\n",
        "        xb = xb.reshape(-1, 784)\n",
        "        out = self.linear(xb)\n",
        "        return out\n",
        "\n",
        "    def training_step(self,batch):\n",
        "        images, labels=batch\n",
        "        out=self(images)\n",
        "        loss=F.cross_entropy(out, labels)\n",
        "        return loss\n",
        "\n",
        "    def validation_step(self,batch):\n",
        "        images, labels = batch\n",
        "        out=self(images)\n",
        "        loss=F.cross_entropy(out, labels)\n",
        "        acc=accuracy(out, labels)\n",
        "        return loss, acc"
      ],
      "metadata": {
        "id": "BQ0y_HPNCU0y"
      },
      "execution_count": 20,
      "outputs": []
    },
    {
      "cell_type": "code",
      "source": [
        "def fit(epochs, step_size, model, train_loader, val_loader, opt_func=torch.optim.SGD):\n",
        "    optimizer = opt_func(model.parameters(), step_size) #lr: stepsize\n",
        "    loss_epoch_res=[]\n",
        "    acc_epoch_res=[]\n",
        "    for epoch in range(epochs):\n",
        "        # Training Phase \n",
        "        for batch in train_loader:\n",
        "            loss = model.training_step(batch)\n",
        "            loss.backward()\n",
        "            optimizer.step()\n",
        "            optimizer.zero_grad()\n",
        "        loss_result=[]\n",
        "        accuracy_result=[]\n",
        "        for batch in val_loader:\n",
        "            loss, acc=model.validation_step(batch)\n",
        "            loss_result.append(loss)\n",
        "            accuracy_result.append(acc)\n",
        "\n",
        "        avg_loss=sum(loss_result)/len(loss_result)\n",
        "        avg_acc=sum(accuracy_result)/len(accuracy_result)\n",
        "        loss_epoch_res.append(avg_loss)\n",
        "        acc_epoch_res.append(avg_acc)\n",
        "        print(\"Epoch [{}], val_loss: {:.4f}, val_acc: {:.4f}\".format(epoch, avg_loss, avg_acc))\n",
        "    return loss_epoch_res,acc_epoch_res"
      ],
      "metadata": {
        "id": "rT3qVnLvFsxA"
      },
      "execution_count": 21,
      "outputs": []
    },
    {
      "cell_type": "markdown",
      "source": [
        "## train the model"
      ],
      "metadata": {
        "id": "2QcZSPWqTHja"
      }
    },
    {
      "cell_type": "code",
      "source": [
        "acc_final_res=[]\n",
        "model = MnistModel()\n",
        "result1=fit(5, 0.001, model, train_loader, val_loader)\n",
        "loss,acc=result1\n",
        "for item in acc:\n",
        "  acc_final_res.append(item)"
      ],
      "metadata": {
        "id": "r5m9_-kospSh",
        "colab": {
          "base_uri": "https://localhost:8080/"
        },
        "outputId": "c7862b1c-282e-4202-a078-2add8cb03771"
      },
      "execution_count": 22,
      "outputs": [
        {
          "output_type": "stream",
          "name": "stdout",
          "text": [
            "Epoch [0], val_loss: 1.9498, val_acc: 0.6562\n",
            "Epoch [1], val_loss: 1.6790, val_acc: 0.7353\n",
            "Epoch [2], val_loss: 1.4775, val_acc: 0.7651\n",
            "Epoch [3], val_loss: 1.3252, val_acc: 0.7853\n",
            "Epoch [4], val_loss: 1.2081, val_acc: 0.8032\n"
          ]
        }
      ]
    },
    {
      "cell_type": "code",
      "source": [
        "result2=fit(5, 0.001, model, train_loader, val_loader)\n",
        "loss,acc=result2\n",
        "loss,acc=result2\n",
        "for item in acc:\n",
        "  acc_final_res.append(item)"
      ],
      "metadata": {
        "colab": {
          "base_uri": "https://localhost:8080/"
        },
        "id": "rRcuUXWwT6YE",
        "outputId": "01812bb3-5b8a-4604-97fc-71936025a670"
      },
      "execution_count": 23,
      "outputs": [
        {
          "output_type": "stream",
          "name": "stdout",
          "text": [
            "Epoch [0], val_loss: 1.1161, val_acc: 0.8140\n",
            "Epoch [1], val_loss: 1.0422, val_acc: 0.8224\n",
            "Epoch [2], val_loss: 0.9817, val_acc: 0.8287\n",
            "Epoch [3], val_loss: 0.9315, val_acc: 0.8348\n",
            "Epoch [4], val_loss: 0.8891, val_acc: 0.8393\n"
          ]
        }
      ]
    },
    {
      "cell_type": "code",
      "source": [
        "result3=fit(5, 0.001, model, train_loader, val_loader)\n",
        "loss,acc=result3\n",
        "for item in acc:\n",
        "  acc_final_res.append(item)"
      ],
      "metadata": {
        "colab": {
          "base_uri": "https://localhost:8080/"
        },
        "id": "2pG6XsgcUDkH",
        "outputId": "d237f421-efe5-418b-9e9b-6cb58a60d047"
      },
      "execution_count": 24,
      "outputs": [
        {
          "output_type": "stream",
          "name": "stdout",
          "text": [
            "Epoch [0], val_loss: 0.8527, val_acc: 0.8445\n",
            "Epoch [1], val_loss: 0.8212, val_acc: 0.8467\n",
            "Epoch [2], val_loss: 0.7936, val_acc: 0.8494\n",
            "Epoch [3], val_loss: 0.7693, val_acc: 0.8515\n",
            "Epoch [4], val_loss: 0.7477, val_acc: 0.8527\n"
          ]
        }
      ]
    },
    {
      "cell_type": "code",
      "source": [
        "result4=fit(5, 0.001, model, train_loader, val_loader)\n",
        "loss,acc=result4\n",
        "for item in acc:\n",
        "  acc_final_res.append(item)"
      ],
      "metadata": {
        "colab": {
          "base_uri": "https://localhost:8080/"
        },
        "id": "nLQeMt6YUI8_",
        "outputId": "b2554f76-5050-4df1-8514-938ed5175cc3"
      },
      "execution_count": 25,
      "outputs": [
        {
          "output_type": "stream",
          "name": "stdout",
          "text": [
            "Epoch [0], val_loss: 0.7283, val_acc: 0.8547\n",
            "Epoch [1], val_loss: 0.7109, val_acc: 0.8561\n",
            "Epoch [2], val_loss: 0.6951, val_acc: 0.8582\n",
            "Epoch [3], val_loss: 0.6806, val_acc: 0.8594\n",
            "Epoch [4], val_loss: 0.6674, val_acc: 0.8603\n"
          ]
        }
      ]
    },
    {
      "cell_type": "code",
      "source": [
        "plt.plot(acc_final_res, '-x')\n",
        "plt.xlabel('epoch')\n",
        "plt.ylabel('accuracy')\n",
        "plt.title('Accuracy vs. No. of epochs');"
      ],
      "metadata": {
        "colab": {
          "base_uri": "https://localhost:8080/",
          "height": 295
        },
        "id": "y7QurqwcSviu",
        "outputId": "c55d092e-c873-43ec-dd71-28787fcdaaaa"
      },
      "execution_count": 26,
      "outputs": [
        {
          "output_type": "display_data",
          "data": {
            "image/png": "[encoded data removed]",
            "text/plain": [
              "<Figure size 432x288 with 1 Axes>"
            ]
          },
          "metadata": {
            "needs_background": "light"
          }
        }
      ]
    },
    {
      "cell_type": "markdown",
      "source": [
        "# Prediction"
      ],
      "metadata": {
        "id": "2Do_n9mMUZfk"
      }
    },
    {
      "cell_type": "code",
      "source": [
        "def predict_image(img, model):\n",
        "    xb = img.unsqueeze(0)\n",
        "    yb = model(xb)\n",
        "    _, preds  = torch.max(yb, dim=1)\n",
        "    return preds[0].item()"
      ],
      "metadata": {
        "id": "Eeo04RKqUjXH"
      },
      "execution_count": 27,
      "outputs": []
    },
    {
      "cell_type": "markdown",
      "source": [
        "img.unsqueeze simply adds another dimension at the begining of the 1x28x28 tensor, making it a 1x1x28x28 tensor, which the model views as a batch containing a single image.\n",
        "\n"
      ],
      "metadata": {
        "id": "C5FxcEraU35V"
      }
    },
    {
      "cell_type": "code",
      "source": [
        "test_ds = MNIST(root='data/', train=False, transform=transforms.ToTensor())\n",
        "img, label = test_ds[0]\n",
        "plt.imshow(img[0], cmap='gray')\n",
        "print('Label:', label, ', Predicted:', predict_image(img, model))"
      ],
      "metadata": {
        "colab": {
          "base_uri": "https://localhost:8080/",
          "height": 282
        },
        "id": "JghglPwSUkXg",
        "outputId": "c28329c8-81f3-4023-9752-b66b9a9d9069"
      },
      "execution_count": 37,
      "outputs": [
        {
          "output_type": "stream",
          "name": "stdout",
          "text": [
            "Label: 7 , Predicted: 7\n"
          ]
        },
        {
          "output_type": "display_data",
          "data": {
            "image/png": "[encoded data removed]",
            "text/plain": [
              "<Figure size 432x288 with 1 Axes>"
            ]
          },
          "metadata": {
            "needs_background": "light"
          }
        }
      ]
    },
    {
      "cell_type": "code",
      "source": [
        "test_loader = DataLoader(test_ds, batch_size*2)\n"
      ],
      "metadata": {
        "id": "v9G-dtpUWDhK"
      },
      "execution_count": 38,
      "outputs": []
    }
  ]
}